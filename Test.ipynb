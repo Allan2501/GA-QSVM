{
 "cells": [
  {
   "cell_type": "code",
   "execution_count": 1,
   "metadata": {},
   "outputs": [],
   "source": [
    "from sklearn.datasets import load_iris\n",
    "from sklearn.model_selection import train_test_split\n",
    "from sklearn.preprocessing import StandardScaler\n",
    "from sklearn.svm import SVC\n",
    "from sklearn.decomposition import PCA\n",
    "from qiskit_machine_learning.kernels import QuantumKernel\n",
    "from qiskit import Aer\n",
    "from qiskit_machine_learning.algorithms import QSVC\n",
    "from sklearn.metrics import classification_report\n",
    "from sklearn.datasets import fetch_openml\n",
    "from qiskit.circuit.library import PauliFeatureMap, ZFeatureMap, ZZFeatureMap\n",
    "from qiskit.visualization import plot_circuit_layout\n",
    "from qiskit import QuantumCircuit\n",
    "import numpy as np\n",
    "from qiskit.circuit.library import BlueprintCircuit\n",
    "from qiskit.circuit import Parameter\n",
    "from sklearn.datasets import make_classification\n",
    "from sklearn.metrics import accuracy_score\n",
    "\n",
    "import qiskit\n",
    "from qoopmaster.core import state\n",
    "from qoopmaster.compilation.qsp import QuantumStatePreparation\n",
    "from qoopmaster.evolution.environment_synthesis import MetadataSynthesis\n",
    "from qoopmaster.evolution.generator import by_num_cnot # By num cnot\n",
    "from qoopmaster.evolution.generator import by_num_cnot_old # By num cnot\n",
    "from qoopmaster.evolution.generator import by_depth_new # By depth new"
   ]
  },
  {
   "cell_type": "markdown",
   "metadata": {},
   "source": [
    "##################################################################\n"
   ]
  },
  {
   "cell_type": "markdown",
   "metadata": {},
   "source": [
    "**Random point dataset**"
   ]
  },
  {
   "cell_type": "code",
   "execution_count": 2,
   "metadata": {},
   "outputs": [],
   "source": [
    "\n",
    "from sklearn.datasets import make_blobs\n",
    "\n",
    "def generate_data(n_samples,n_features,centers, random_state):\n",
    "    X, y = make_blobs(n_samples=n_samples, n_features=n_features, centers=centers, random_state=random_state)\n",
    "    y = 2 * y - 1  # Convert labels to {-1, +1} for compatibility with QSVC\n",
    "    X_train, X_test, y_train, y_test = train_test_split(X, y, test_size=0.2, random_state=42)\n",
    "    scaler = StandardScaler()\n",
    "    X_train = scaler.fit_transform(X_train)\n",
    "    X_test = scaler.transform(X_test)\n",
    "    return X_train,X_test,y_train, y_test\n",
    "\n",
    "Xr_train,Xr_test,yr_train, yr_test = generate_data(n_samples=120, n_features=4, centers=2, random_state=41)\\\n",
    "    \n",
    "    \n",
    "def train_qsvm_with_random(quantum_circuit):\n",
    "    \n",
    "    print(quantum_circuit.draw())\n",
    "    print(f\"Parameter: {len(quantum_circuit.parameters)}\")\n",
    "    backend = Aer.get_backend('statevector_simulator')\n",
    "    quantum_kernel = QuantumKernel(feature_map=quantum_circuit, quantum_instance=backend)\n",
    "    qsvc = QSVC(quantum_kernel=quantum_kernel)\n",
    "    qsvc.fit(Xr_train, yr_train)\n",
    "    y_pred = qsvc.predict(Xr_test)\n",
    "    accuracy = accuracy_score(yr_test, y_pred)\n",
    "\n",
    "    return accuracy"
   ]
  },
  {
   "cell_type": "code",
   "execution_count": 3,
   "metadata": {},
   "outputs": [
    {
     "data": {
      "text/plain": [
       "(96, 4)"
      ]
     },
     "execution_count": 3,
     "metadata": {},
     "output_type": "execute_result"
    }
   ],
   "source": [
    "Xr_train.shape"
   ]
  },
  {
   "cell_type": "markdown",
   "metadata": {},
   "source": [
    "**Wine dataset**"
   ]
  },
  {
   "cell_type": "code",
   "execution_count": 16,
   "metadata": {},
   "outputs": [
    {
     "name": "stdout",
     "output_type": "stream",
     "text": [
      "(104, 4)\n"
     ]
    }
   ],
   "source": [
    "import numpy as np\n",
    "from sklearn.datasets import load_wine\n",
    "from sklearn.model_selection import train_test_split\n",
    "from sklearn.decomposition import PCA\n",
    "\n",
    "# Load Wine Dataset\n",
    "wine = load_wine()\n",
    "X = wine.data\n",
    "y = wine.target\n",
    "\n",
    "# Lấy dữ liệu chỉ gồm lớp 0 và 1\n",
    "X = X[y != 2]\n",
    "y = y[y != 2]\n",
    "\n",
    "# Chia train-test\n",
    "Xw_train, Xw_test, yw_train, yw_test = train_test_split(X, y, test_size=0.2, random_state=42)\n",
    "\n",
    "\n",
    "scaler = StandardScaler()\n",
    "Xw_train = scaler.fit_transform(Xw_train)\n",
    "Xw_test = scaler.transform(Xw_test)\n",
    "\n",
    "# Áp dụng PCA\n",
    "pca = PCA(n_components=4)\n",
    "Xw_train = pca.fit_transform(Xw_train)\n",
    "Xw_test = pca.transform(Xw_test)\n",
    "\n",
    "\n",
    "# Thiết lập tùy chọn hiển thị của NumPy\n",
    "np.set_printoptions(suppress=True)  # precision=3: 3 chữ số thập phân, suppress=True: bỏ ký hiệu khoa học\n",
    "\n",
    "\n",
    "def train_qsvm_with_wine(quantum_circuit):\n",
    "    print('parameter: ', len(quantum_circuit.parameters))\n",
    "    backend = Aer.get_backend('statevector_simulator')\n",
    "    quantum_kernel = QuantumKernel(feature_map=quantum_circuit, quantum_instance=backend)\n",
    "    qsvc = QSVC(quantum_kernel=quantum_kernel)\n",
    "    qsvc.fit(Xw_train, yw_train)\n",
    "    y_pred = qsvc.predict(Xw_test)\n",
    "    accuracy = accuracy_score(yw_test, y_pred)\n",
    "\n",
    "    return accuracy\n",
    "\n",
    "\n",
    "print(f\"{Xw_train.shape}\")\n",
    "\n"
   ]
  },
  {
   "cell_type": "code",
   "execution_count": 5,
   "metadata": {},
   "outputs": [
    {
     "name": "stdout",
     "output_type": "stream",
     "text": [
      "[[-2.96566571 -1.19981356  0.200953    1.44581844]\n",
      " [-0.36333653 -1.36189673 -0.34597488  0.4696873 ]\n",
      " [ 2.59522139 -0.09800267 -1.6010798  -0.00284246]\n",
      " [ 3.22951382  0.06886644 -0.02558222  0.18915916]\n",
      " [ 1.63361267 -1.22613815 -0.04919233  0.0370117 ]\n",
      " [ 3.00563107  0.42960706 -0.941301    0.09456229]\n",
      " [ 2.39868742 -0.52568567  0.33147905 -0.8471472 ]\n",
      " [ 0.82212247  0.65259029  0.43176006 -1.02740405]\n",
      " [-1.36772313 -0.81344516 -1.1237484  -1.67591427]\n",
      " [-2.30968101 -0.39642454  1.04017436 -1.03724131]\n",
      " [-2.67735392  0.41222813  0.22542442 -1.4537568 ]\n",
      " [ 2.54055117 -1.34812208  1.62075776  0.27437308]\n",
      " [-2.82262766 -0.10534998  0.10388188  1.50770234]\n",
      " [ 1.62737727  0.08839331 -0.38437798 -0.76603469]\n",
      " [ 1.46730624  0.31642503 -1.27306447  0.09405107]\n",
      " [-0.23545791 -0.72467594  0.99286515 -0.48386237]\n",
      " [-1.71915134  0.48023949  0.94233759  0.68378904]\n",
      " [ 2.3257985  -0.00544558  1.49327704 -0.48153172]\n",
      " [-1.40461473 -2.40707683 -0.22717818 -0.39611149]\n",
      " [-0.03117362  4.2419963  -2.30475961 -0.14326179]\n",
      " [ 2.72923842 -0.62031403 -0.92180917 -0.3383921 ]\n",
      " [ 1.82772183 -0.99420324  2.90461684  0.78755783]\n",
      " [ 0.80636478 -0.95387423 -2.37778558 -1.78313713]\n",
      " [ 0.6513814   1.6785255   3.53517111  0.24826412]\n",
      " [-1.8493011   0.45819026  0.2280061  -0.74332624]\n",
      " [ 1.73025784  0.1750268   1.70990236 -0.48513837]\n",
      " [ 0.98119968  0.0409082  -1.08878226 -1.59257402]\n",
      " [-2.08321455  1.34038127 -0.00623882 -0.49877483]\n",
      " [ 2.38135526 -0.83598485  1.47384895  0.99800374]\n",
      " [ 3.32781232 -1.0419505   0.34164127  1.05743825]\n",
      " [-1.98367191 -2.389359    1.42365279  1.55935283]\n",
      " [ 1.80950665  1.60795058  2.60963246 -1.92866866]\n",
      " [ 2.84301176  1.3823543  -1.18987423  1.80894994]\n",
      " [ 3.31758748 -1.02003668  0.20017732  0.51040429]\n",
      " [ 1.43306817  0.47753013 -0.02774937 -0.5230858 ]\n",
      " [ 2.57202975 -0.33890236  1.56171251  1.14545832]\n",
      " [-1.5622961   1.33522984 -0.94893125 -0.4342056 ]\n",
      " [ 0.84743751 -0.41221702  1.0331536   0.30934085]\n",
      " [-1.14647486 -0.85312206  0.07541884 -1.59003049]\n",
      " [ 2.03034562 -0.32832934  0.92706522  0.85100045]\n",
      " [ 0.23429871  1.41460717 -1.21167744  1.85788053]\n",
      " [-1.33156618 -2.28343082 -1.59654432 -1.14606864]\n",
      " [-1.32059     0.16778234 -1.01464441 -1.11101139]\n",
      " [ 0.06612549  2.94032415 -2.86624427  0.42298532]\n",
      " [ 2.05611075 -1.45050861 -0.92039759  0.39653309]\n",
      " [ 2.96748903 -1.43433041 -0.09384737  0.2461827 ]\n",
      " [-0.74696596  0.26394958 -0.70468407 -1.63771885]\n",
      " [ 4.59788894  0.25282437 -0.44720513  0.96887744]\n",
      " [ 2.12601123 -0.70418771  1.77064282  0.73685582]\n",
      " [ 0.15529713 -1.61364174 -0.44291027 -0.39770412]\n",
      " [-1.75039925 -0.1227737  -0.1465791  -0.274998  ]\n",
      " [-2.56668394 -1.15739465 -1.1736415  -0.53609715]\n",
      " [ 2.14057124 -0.6276028  -0.50875283  0.47560779]\n",
      " [-2.7958427   0.7173122   0.40422605  3.0604418 ]\n",
      " [-2.22707584 -0.00036709  2.96049658  1.0479125 ]\n",
      " [-1.9379935   0.87719862  0.49700746 -0.69501854]\n",
      " [ 2.01353602 -0.54214177 -0.69991648  0.63981733]\n",
      " [ 2.70079667 -1.07195951 -1.93715263 -0.49568843]\n",
      " [-2.4473143   1.26361561 -1.54855866  0.40271418]\n",
      " [ 2.64268428  0.82104102 -1.10570722  0.79511174]\n",
      " [-1.76757689  0.41512709 -1.41818546 -0.47945702]\n",
      " [-2.65728131 -2.581869    0.30367176  1.87517792]\n",
      " [-2.65055122  1.83500116  2.45444986  0.39399217]\n",
      " [-0.70121716  1.99316478  0.69703582 -0.02155193]\n",
      " [-1.89597118  3.41052     1.04429265  1.14949604]\n",
      " [-3.070989   -0.18753115  0.94479858  0.06299931]\n",
      " [ 0.27153711  0.78527456 -1.4280821   1.30134407]\n",
      " [ 3.38867449 -0.20802855 -0.4609792   0.44318121]\n",
      " [-3.23914459 -0.64162909  0.40040815  0.34157252]\n",
      " [ 1.97903654 -0.30907238  0.17325736  0.57594549]\n",
      " [-2.65774213  0.40722963  0.72442476  0.17141021]\n",
      " [-1.84830463  0.95334782 -1.15597447 -0.31053726]\n",
      " [ 2.1199004  -0.40687057  0.70917357  0.52847983]\n",
      " [-2.72465062 -1.89223309 -0.46257708 -0.16844079]\n",
      " [ 0.65363028 -0.87073744  0.7731036   0.06767966]\n",
      " [-0.97104643  3.63841307 -2.3395171   1.9226966 ]\n",
      " [-3.62054583 -3.85839881 -2.72621671  0.10137263]\n",
      " [ 0.54622279 -0.16719949 -0.77431246 -2.42283982]\n",
      " [ 0.01493016  1.67119364  0.1184453  -1.34553208]\n",
      " [ 0.28048523 -0.94062518  0.65205151  0.10948736]\n",
      " [ 1.49994693 -0.49005919 -1.03024715 -0.29443369]\n",
      " [-2.87350042  0.05729872  0.18783757  0.84071196]\n",
      " [-2.4049457   0.41094804 -1.23200965 -1.17655879]\n",
      " [ 1.19626595 -1.2561104  -1.35922436  0.00227383]\n",
      " [ 3.75090564 -0.44081658 -0.22945081  0.47738505]\n",
      " [ 0.74469553  1.74284579 -0.21112022  0.56051397]\n",
      " [ 2.3615698   0.99042695  0.27075015  0.21285992]\n",
      " [ 0.58898626 -0.03629909  0.04629391 -0.83816135]\n",
      " [-2.76227517 -0.1996487  -1.26400411 -0.32823968]\n",
      " [-0.49776917  0.8501642   0.11658744 -1.28014552]\n",
      " [-2.40510944  0.48086412  2.15867621 -1.9536308 ]\n",
      " [-3.45888672 -0.29284027 -1.95607644  2.6919054 ]\n",
      " [ 0.31416032  0.45966157 -0.66788697 -1.68168806]\n",
      " [-2.77036053 -0.76256681  1.39213166 -0.97705386]\n",
      " [-2.56800581 -0.41475584  1.56456464 -1.79040059]\n",
      " [ 1.67745226  3.8630547   3.2128205  -0.50277614]\n",
      " [-2.74205695  2.00226035 -0.65125294  1.83168707]\n",
      " [ 2.84090222 -0.09586691 -0.33428271 -0.3295741 ]\n",
      " [-3.22028795 -3.11879933  1.91275374  1.08941819]\n",
      " [ 0.4828442   0.68539865  1.18315079 -2.57454322]\n",
      " [-1.99501621 -0.01048366 -0.85329859 -0.52149668]\n",
      " [ 4.49472271 -1.25658171 -0.40501725  0.32647771]\n",
      " [-3.44573656 -0.80270016  0.54865867  1.05791067]\n",
      " [-1.2466714   1.69313967 -0.41301215  0.26498384]]\n"
     ]
    }
   ],
   "source": [
    "print(Xw_train)"
   ]
  },
  {
   "cell_type": "markdown",
   "metadata": {},
   "source": [
    "**Iris dataset**"
   ]
  },
  {
   "cell_type": "code",
   "execution_count": 6,
   "metadata": {},
   "outputs": [],
   "source": [
    "from sklearn.datasets import load_iris\n",
    "scaler = StandardScaler()\n",
    "iris = load_iris()\n",
    "Xi_train, Xi_test, yi_train, yi_test = train_test_split(iris.data, iris.target, test_size=0.2, random_state=42)\n",
    "\n",
    "def train_qsvm_with_Iris(quantum_circuit):\n",
    "    \n",
    "    print(quantum_circuit.draw())\n",
    "    print(f\"Parameter: {len(quantum_circuit.parameters)}\")\n",
    "    backend = Aer.get_backend('statevector_simulator')\n",
    "    quantum_kernel = QuantumKernel(feature_map=quantum_circuit, quantum_instance=backend)\n",
    "    qsvc = QSVC(quantum_kernel=quantum_kernel)\n",
    "    qsvc.fit(Xi_train, yi_train)\n",
    "    y_pred = qsvc.predict(Xi_test)\n",
    "    accuracy = accuracy_score(yi_test, y_pred)\n",
    "\n",
    "    return accuracy\n"
   ]
  },
  {
   "cell_type": "code",
   "execution_count": 7,
   "metadata": {},
   "outputs": [
    {
     "data": {
      "text/plain": [
       "dtype('float64')"
      ]
     },
     "execution_count": 7,
     "metadata": {},
     "output_type": "execute_result"
    }
   ],
   "source": [
    "Xi_train.dtype"
   ]
  },
  {
   "cell_type": "markdown",
   "metadata": {},
   "source": [
    "**Credit dataset**"
   ]
  },
  {
   "cell_type": "code",
   "execution_count": 8,
   "metadata": {},
   "outputs": [
    {
     "name": "stdout",
     "output_type": "stream",
     "text": [
      "Kiểu dữ liệu của X_train: <class 'numpy.ndarray'>, kích thước: (70, 5)\n",
      "Kiểu dữ liệu của y_train: <class 'numpy.ndarray'>, kích thước: (70,)\n"
     ]
    }
   ],
   "source": [
    "from TestGAGermanCreditData import X_train as Xc_train\n",
    "from TestGAGermanCreditData import X_test as Xc_test\n",
    "from TestGAGermanCreditData import y_train as yc_train\n",
    "from TestGAGermanCreditData import y_test as yc_test\n",
    "\n",
    "\n",
    "def train_qsvm_with_credit(quantum_circuit):\n",
    "    \n",
    "    \n",
    "    pca = PCA(n_components=len(quantum_circuit.parameters))\n",
    "    Xpca_train = pca.fit_transform(Xw_train)\n",
    "    Xpca_test = pca.transform(Xw_test)\n",
    "    print(quantum_circuit.draw())\n",
    "    print(f\"Parameter: {len(quantum_circuit.parameters)}\")\n",
    "    backend = Aer.get_backend('statevector_simulator')\n",
    "    quantum_kernel = QuantumKernel(feature_map=quantum_circuit, quantum_instance=backend)\n",
    "    qsvc = QSVC(quantum_kernel=quantum_kernel)\n",
    "    qsvc.fit(Xpca_train, yc_train)\n",
    "    y_pred = qsvc.predict(Xpca_test)\n",
    "    accuracy = accuracy_score(yc_test, y_pred)\n",
    "\n",
    "    return accuracy"
   ]
  },
  {
   "cell_type": "markdown",
   "metadata": {},
   "source": []
  },
  {
   "cell_type": "code",
   "execution_count": 9,
   "metadata": {},
   "outputs": [
    {
     "name": "stdout",
     "output_type": "stream",
     "text": [
      "['Metadata', 'MetadataSynthesis', '__builtins__', '__cached__', '__doc__', '__file__', '__loader__', '__name__', '__package__', '__spec__', 'by_depth', 'by_depth_new', 'by_num_cnot', 'by_num_cnot_old', 'by_num_qubits', 'choice_from_array', 'constant', 'generate_random_array', 'initialize_random_parameters', 'np', 'qiskit', 'random', 'weighted_choice']\n"
     ]
    }
   ],
   "source": [
    "import qoopmaster.evolution.generator\n",
    "print(dir(qoopmaster.evolution.generator))"
   ]
  },
  {
   "cell_type": "markdown",
   "metadata": {},
   "source": [
    "**GA**"
   ]
  },
  {
   "cell_type": "code",
   "execution_count": 10,
   "metadata": {},
   "outputs": [],
   "source": [
    "from qoopmaster.evolution import generator\n",
    "from qoopmaster.evolution import crossover\n",
    "from qoopmaster.evolution.generator import by_num_cnot_old # By num cnot old"
   ]
  },
  {
   "cell_type": "code",
   "execution_count": 11,
   "metadata": {},
   "outputs": [],
   "source": [
    "from qoopmaster.evolution import divider\n",
    "from qoopmaster.evolution import normalizer\n",
    "from qoopmaster.evolution import mutate\n",
    "from qoopmaster.evolution import threshold\n",
    "from qoopmaster.backend import constant\n",
    "from qoopmaster.evolution.environment import EEnvironment\n"
   ]
  },
  {
   "cell_type": "code",
   "execution_count": 22,
   "metadata": {},
   "outputs": [
    {
     "name": "stderr",
     "output_type": "stream",
     "text": [
      "Step:   0%|          | 0/2 [00:00<?, ?it/s]"
     ]
    },
    {
     "name": "stdout",
     "output_type": "stream",
     "text": [
      "Initialize list of circuit ...\n"
     ]
    },
    {
     "name": "stderr",
     "output_type": "stream",
     "text": [
      "Step:  50%|█████     | 1/2 [00:01<00:01,  1.11s/it]"
     ]
    },
    {
     "name": "stdout",
     "output_type": "stream",
     "text": [
      "Start evol progress ...\n",
      "Running at generation 1\n",
      "parameter:  4\n",
      "parameter:  4\n",
      "parameter:  4\n",
      "parameter:  4\n"
     ]
    },
    {
     "name": "stderr",
     "output_type": "stream",
     "text": [
      "Step: 100%|██████████| 2/2 [00:03<00:00,  1.62s/it]"
     ]
    },
    {
     "name": "stdout",
     "output_type": "stream",
     "text": [
      "[0.9231 0.8846 0.5    0.5769]\n",
      "Saving circuit ...\n",
      "running normalizer...\n",
      "running normalizer...\n",
      "Saving circuit ...\n",
      "Running at generation 2\n",
      "parameter:  4\n",
      "parameter:  4\n",
      "parameter:  5\n"
     ]
    },
    {
     "ename": "ValueError",
     "evalue": "x_vec and class feature map have incompatible dimensions.\nx_vec has 4 dimensions, but feature map has 5.",
     "output_type": "error",
     "traceback": [
      "\u001b[1;31m---------------------------------------------------------------------------\u001b[0m",
      "\u001b[1;31mAttributeError\u001b[0m                            Traceback (most recent call last)",
      "File \u001b[1;32mc:\\Users\\ADMIN\\AppData\\Local\\Programs\\Python\\Python311\\Lib\\site-packages\\qiskit_machine_learning\\kernels\\quantum_kernel.py:538\u001b[0m, in \u001b[0;36mQuantumKernel._validate_input\u001b[1;34m(self, x_vec, y_vec)\u001b[0m\n\u001b[0;32m    537\u001b[0m \u001b[38;5;28;01mtry\u001b[39;00m:\n\u001b[1;32m--> 538\u001b[0m     \u001b[38;5;28;43mself\u001b[39;49m\u001b[38;5;241;43m.\u001b[39;49m\u001b[43m_feature_map\u001b[49m\u001b[38;5;241;43m.\u001b[39;49m\u001b[43mnum_qubits\u001b[49m \u001b[38;5;241m=\u001b[39m x_vec\u001b[38;5;241m.\u001b[39mshape[\u001b[38;5;241m1\u001b[39m]\n\u001b[0;32m    539\u001b[0m \u001b[38;5;28;01mexcept\u001b[39;00m \u001b[38;5;167;01mAttributeError\u001b[39;00m:\n",
      "\u001b[1;31mAttributeError\u001b[0m: property 'num_qubits' of 'QuantumCircuit' object has no setter",
      "\nDuring handling of the above exception, another exception occurred:\n",
      "\u001b[1;31mValueError\u001b[0m                                Traceback (most recent call last)",
      "Cell \u001b[1;32mIn[22], line 20\u001b[0m\n\u001b[0;32m      1\u001b[0m env_metadata \u001b[38;5;241m=\u001b[39m MetadataSynthesis(\n\u001b[0;32m      2\u001b[0m     num_qubits\u001b[38;5;241m=\u001b[39m \u001b[38;5;241m4\u001b[39m,\n\u001b[0;32m      3\u001b[0m     num_cnot\u001b[38;5;241m=\u001b[39m\u001b[38;5;241m4\u001b[39m, \n\u001b[1;32m   (...)\u001b[0m\n\u001b[0;32m      7\u001b[0m     prob_mutate\u001b[38;5;241m=\u001b[39m\u001b[38;5;241m0.01\u001b[39m  \n\u001b[0;32m      8\u001b[0m )\n\u001b[0;32m     11\u001b[0m env \u001b[38;5;241m=\u001b[39m \u001b[43mEEnvironment\u001b[49m\u001b[43m(\u001b[49m\n\u001b[0;32m     12\u001b[0m \u001b[43m    \u001b[49m\u001b[43mmetadata\u001b[49m\u001b[43m \u001b[49m\u001b[38;5;241;43m=\u001b[39;49m\u001b[43m \u001b[49m\u001b[43menv_metadata\u001b[49m\u001b[43m,\u001b[49m\n\u001b[0;32m     13\u001b[0m \u001b[43m    \u001b[49m\u001b[43mfitness_func\u001b[49m\u001b[43m \u001b[49m\u001b[38;5;241;43m=\u001b[39;49m\u001b[43m \u001b[49m\u001b[43mtrain_qsvm_with_wine\u001b[49m\u001b[43m,\u001b[49m\n\u001b[0;32m     14\u001b[0m \u001b[43m    \u001b[49m\u001b[43mgenerator_func\u001b[49m\u001b[43m \u001b[49m\u001b[38;5;241;43m=\u001b[39;49m\u001b[43m \u001b[49m\u001b[43mgenerator\u001b[49m\u001b[38;5;241;43m.\u001b[39;49m\u001b[43mby_depth_new\u001b[49m\u001b[43m,\u001b[49m\n\u001b[0;32m     15\u001b[0m \u001b[43m    \u001b[49m\u001b[43mcrossover_func\u001b[49m\u001b[43m \u001b[49m\u001b[38;5;241;43m=\u001b[39;49m\u001b[43m \u001b[49m\u001b[43mcrossover\u001b[49m\u001b[38;5;241;43m.\u001b[39;49m\u001b[43monepoint\u001b[49m\u001b[43m(\u001b[49m\n\u001b[0;32m     16\u001b[0m \u001b[43m        \u001b[49m\u001b[43mdivider\u001b[49m\u001b[38;5;241;43m.\u001b[39;49m\u001b[43mby_num_rotation_gate\u001b[49m\u001b[43m(\u001b[49m\u001b[38;5;28;43mint\u001b[39;49m\u001b[43m(\u001b[49m\u001b[43menv_metadata\u001b[49m\u001b[38;5;241;43m.\u001b[39;49m\u001b[43mnum_qubits\u001b[49m\u001b[38;5;241;43m/\u001b[39;49m\u001b[38;5;241;43m2\u001b[39;49m\u001b[43m)\u001b[49m\u001b[43m)\u001b[49m\u001b[43m,\u001b[49m\n\u001b[0;32m     17\u001b[0m \u001b[43m        \u001b[49m\u001b[43mnormalizer\u001b[49m\u001b[38;5;241;43m.\u001b[39;49m\u001b[43mby_num_rotation_gate\u001b[49m\u001b[43m(\u001b[49m\u001b[43menv_metadata\u001b[49m\u001b[38;5;241;43m.\u001b[39;49m\u001b[43mnum_qubits\u001b[49m\u001b[38;5;241;43m/\u001b[39;49m\u001b[38;5;241;43m2\u001b[39;49m\u001b[43m)\u001b[49m\u001b[43m)\u001b[49m\u001b[43m,\u001b[49m\n\u001b[0;32m     18\u001b[0m \u001b[43m    \u001b[49m\u001b[43mmutate_func\u001b[49m\u001b[43m \u001b[49m\u001b[38;5;241;43m=\u001b[39;49m\u001b[43m \u001b[49m\u001b[43mmutate\u001b[49m\u001b[38;5;241;43m.\u001b[39;49m\u001b[43mbitflip_mutate\u001b[49m\u001b[43m(\u001b[49m\u001b[43mconstant\u001b[49m\u001b[38;5;241;43m.\u001b[39;49m\u001b[43moperations\u001b[49m\u001b[43m)\u001b[49m\u001b[43m,\u001b[49m\n\u001b[0;32m     19\u001b[0m \u001b[43m    \u001b[49m\u001b[43mthreshold_func\u001b[49m\u001b[43m \u001b[49m\u001b[38;5;241;43m=\u001b[39;49m\u001b[43m \u001b[49m\u001b[43mthreshold\u001b[49m\u001b[38;5;241;43m.\u001b[39;49m\u001b[43msynthesis_threshold\u001b[49m\n\u001b[1;32m---> 20\u001b[0m \u001b[43m)\u001b[49m\u001b[38;5;241;43m.\u001b[39;49m\u001b[43mevol\u001b[49m\u001b[43m(\u001b[49m\u001b[43mverbose\u001b[49m\u001b[38;5;241;43m=\u001b[39;49m\u001b[38;5;28;43;01mTrue\u001b[39;49;00m\u001b[43m,\u001b[49m\u001b[43m \u001b[49m\u001b[43mmode\u001b[49m\u001b[38;5;241;43m=\u001b[39;49m\u001b[38;5;124;43m\"\u001b[39;49m\u001b[38;5;124;43mnonparallel\u001b[39;49m\u001b[38;5;124;43m\"\u001b[39;49m\u001b[43m)\u001b[49m\n\u001b[0;32m     23\u001b[0m test \u001b[38;5;241m=\u001b[39m env\u001b[38;5;241m.\u001b[39mbest_circuit\n\u001b[0;32m     24\u001b[0m \u001b[38;5;28mprint\u001b[39m(\u001b[38;5;28mlen\u001b[39m(test\u001b[38;5;241m.\u001b[39mparameters))\n",
      "File \u001b[1;32mc:\\Desktop\\GA+QSVM\\qoopmaster\\evolution\\environment.py:170\u001b[0m, in \u001b[0;36mEEnvironment.evol\u001b[1;34m(self, verbose, mode, auto_save)\u001b[0m\n\u001b[0;32m    168\u001b[0m \u001b[38;5;28;01melse\u001b[39;00m:\n\u001b[0;32m    169\u001b[0m     \u001b[38;5;28;01mfor\u001b[39;00m i \u001b[38;5;129;01min\u001b[39;00m \u001b[38;5;28mrange\u001b[39m(\u001b[38;5;28mlen\u001b[39m(\u001b[38;5;28mself\u001b[39m\u001b[38;5;241m.\u001b[39mcircuits)):\n\u001b[1;32m--> 170\u001b[0m         \u001b[38;5;28mself\u001b[39m\u001b[38;5;241m.\u001b[39mfitnesss\u001b[38;5;241m.\u001b[39mappend(\u001b[38;5;28;43mself\u001b[39;49m\u001b[38;5;241;43m.\u001b[39;49m\u001b[43mfitness_func\u001b[49m\u001b[43m(\u001b[49m\u001b[38;5;28;43mself\u001b[39;49m\u001b[38;5;241;43m.\u001b[39;49m\u001b[43mcircuits\u001b[49m\u001b[43m[\u001b[49m\u001b[43mi\u001b[49m\u001b[43m]\u001b[49m\u001b[43m)\u001b[49m)\n\u001b[0;32m    171\u001b[0m \u001b[38;5;28mself\u001b[39m\u001b[38;5;241m.\u001b[39mmetadata\u001b[38;5;241m.\u001b[39mbest_fitnesss\u001b[38;5;241m.\u001b[39mappend(np\u001b[38;5;241m.\u001b[39mmax(\u001b[38;5;28mself\u001b[39m\u001b[38;5;241m.\u001b[39mfitnesss))\n\u001b[0;32m    172\u001b[0m \u001b[38;5;28mself\u001b[39m\u001b[38;5;241m.\u001b[39mbest_circuits\u001b[38;5;241m.\u001b[39mappend(\u001b[38;5;28mself\u001b[39m\u001b[38;5;241m.\u001b[39mcircuits[np\u001b[38;5;241m.\u001b[39margmax(\u001b[38;5;28mself\u001b[39m\u001b[38;5;241m.\u001b[39mfitnesss)])\n",
      "Cell \u001b[1;32mIn[16], line 38\u001b[0m, in \u001b[0;36mtrain_qsvm_with_wine\u001b[1;34m(quantum_circuit)\u001b[0m\n\u001b[0;32m     36\u001b[0m quantum_kernel \u001b[38;5;241m=\u001b[39m QuantumKernel(feature_map\u001b[38;5;241m=\u001b[39mquantum_circuit, quantum_instance\u001b[38;5;241m=\u001b[39mbackend)\n\u001b[0;32m     37\u001b[0m qsvc \u001b[38;5;241m=\u001b[39m QSVC(quantum_kernel\u001b[38;5;241m=\u001b[39mquantum_kernel)\n\u001b[1;32m---> 38\u001b[0m \u001b[43mqsvc\u001b[49m\u001b[38;5;241;43m.\u001b[39;49m\u001b[43mfit\u001b[49m\u001b[43m(\u001b[49m\u001b[43mXw_train\u001b[49m\u001b[43m,\u001b[49m\u001b[43m \u001b[49m\u001b[43myw_train\u001b[49m\u001b[43m)\u001b[49m\n\u001b[0;32m     39\u001b[0m y_pred \u001b[38;5;241m=\u001b[39m qsvc\u001b[38;5;241m.\u001b[39mpredict(Xw_test)\n\u001b[0;32m     40\u001b[0m accuracy \u001b[38;5;241m=\u001b[39m accuracy_score(yw_test, y_pred)\n",
      "File \u001b[1;32mc:\\Users\\ADMIN\\AppData\\Local\\Programs\\Python\\Python311\\Lib\\site-packages\\sklearn\\base.py:1473\u001b[0m, in \u001b[0;36m_fit_context.<locals>.decorator.<locals>.wrapper\u001b[1;34m(estimator, *args, **kwargs)\u001b[0m\n\u001b[0;32m   1466\u001b[0m     estimator\u001b[38;5;241m.\u001b[39m_validate_params()\n\u001b[0;32m   1468\u001b[0m \u001b[38;5;28;01mwith\u001b[39;00m config_context(\n\u001b[0;32m   1469\u001b[0m     skip_parameter_validation\u001b[38;5;241m=\u001b[39m(\n\u001b[0;32m   1470\u001b[0m         prefer_skip_nested_validation \u001b[38;5;129;01mor\u001b[39;00m global_skip_validation\n\u001b[0;32m   1471\u001b[0m     )\n\u001b[0;32m   1472\u001b[0m ):\n\u001b[1;32m-> 1473\u001b[0m     \u001b[38;5;28;01mreturn\u001b[39;00m \u001b[43mfit_method\u001b[49m\u001b[43m(\u001b[49m\u001b[43mestimator\u001b[49m\u001b[43m,\u001b[49m\u001b[43m \u001b[49m\u001b[38;5;241;43m*\u001b[39;49m\u001b[43margs\u001b[49m\u001b[43m,\u001b[49m\u001b[43m \u001b[49m\u001b[38;5;241;43m*\u001b[39;49m\u001b[38;5;241;43m*\u001b[39;49m\u001b[43mkwargs\u001b[49m\u001b[43m)\u001b[49m\n",
      "File \u001b[1;32mc:\\Users\\ADMIN\\AppData\\Local\\Programs\\Python\\Python311\\Lib\\site-packages\\sklearn\\svm\\_base.py:250\u001b[0m, in \u001b[0;36mBaseLibSVM.fit\u001b[1;34m(self, X, y, sample_weight)\u001b[0m\n\u001b[0;32m    247\u001b[0m     \u001b[38;5;28mprint\u001b[39m(\u001b[38;5;124m\"\u001b[39m\u001b[38;5;124m[LibSVM]\u001b[39m\u001b[38;5;124m\"\u001b[39m, end\u001b[38;5;241m=\u001b[39m\u001b[38;5;124m\"\u001b[39m\u001b[38;5;124m\"\u001b[39m)\n\u001b[0;32m    249\u001b[0m seed \u001b[38;5;241m=\u001b[39m rnd\u001b[38;5;241m.\u001b[39mrandint(np\u001b[38;5;241m.\u001b[39miinfo(\u001b[38;5;124m\"\u001b[39m\u001b[38;5;124mi\u001b[39m\u001b[38;5;124m\"\u001b[39m)\u001b[38;5;241m.\u001b[39mmax)\n\u001b[1;32m--> 250\u001b[0m \u001b[43mfit\u001b[49m\u001b[43m(\u001b[49m\u001b[43mX\u001b[49m\u001b[43m,\u001b[49m\u001b[43m \u001b[49m\u001b[43my\u001b[49m\u001b[43m,\u001b[49m\u001b[43m \u001b[49m\u001b[43msample_weight\u001b[49m\u001b[43m,\u001b[49m\u001b[43m \u001b[49m\u001b[43msolver_type\u001b[49m\u001b[43m,\u001b[49m\u001b[43m \u001b[49m\u001b[43mkernel\u001b[49m\u001b[43m,\u001b[49m\u001b[43m \u001b[49m\u001b[43mrandom_seed\u001b[49m\u001b[38;5;241;43m=\u001b[39;49m\u001b[43mseed\u001b[49m\u001b[43m)\u001b[49m\n\u001b[0;32m    251\u001b[0m \u001b[38;5;66;03m# see comment on the other call to np.iinfo in this file\u001b[39;00m\n\u001b[0;32m    253\u001b[0m \u001b[38;5;28mself\u001b[39m\u001b[38;5;241m.\u001b[39mshape_fit_ \u001b[38;5;241m=\u001b[39m X\u001b[38;5;241m.\u001b[39mshape \u001b[38;5;28;01mif\u001b[39;00m \u001b[38;5;28mhasattr\u001b[39m(X, \u001b[38;5;124m\"\u001b[39m\u001b[38;5;124mshape\u001b[39m\u001b[38;5;124m\"\u001b[39m) \u001b[38;5;28;01melse\u001b[39;00m (n_samples,)\n",
      "File \u001b[1;32mc:\\Users\\ADMIN\\AppData\\Local\\Programs\\Python\\Python311\\Lib\\site-packages\\sklearn\\svm\\_base.py:309\u001b[0m, in \u001b[0;36mBaseLibSVM._dense_fit\u001b[1;34m(self, X, y, sample_weight, solver_type, kernel, random_seed)\u001b[0m\n\u001b[0;32m    305\u001b[0m \u001b[38;5;28;01mif\u001b[39;00m \u001b[38;5;28mcallable\u001b[39m(\u001b[38;5;28mself\u001b[39m\u001b[38;5;241m.\u001b[39mkernel):\n\u001b[0;32m    306\u001b[0m     \u001b[38;5;66;03m# you must store a reference to X to compute the kernel in predict\u001b[39;00m\n\u001b[0;32m    307\u001b[0m     \u001b[38;5;66;03m# TODO: add keyword copy to copy on demand\u001b[39;00m\n\u001b[0;32m    308\u001b[0m     \u001b[38;5;28mself\u001b[39m\u001b[38;5;241m.\u001b[39m__Xfit \u001b[38;5;241m=\u001b[39m X\n\u001b[1;32m--> 309\u001b[0m     X \u001b[38;5;241m=\u001b[39m \u001b[38;5;28;43mself\u001b[39;49m\u001b[38;5;241;43m.\u001b[39;49m\u001b[43m_compute_kernel\u001b[49m\u001b[43m(\u001b[49m\u001b[43mX\u001b[49m\u001b[43m)\u001b[49m\n\u001b[0;32m    311\u001b[0m     \u001b[38;5;28;01mif\u001b[39;00m X\u001b[38;5;241m.\u001b[39mshape[\u001b[38;5;241m0\u001b[39m] \u001b[38;5;241m!=\u001b[39m X\u001b[38;5;241m.\u001b[39mshape[\u001b[38;5;241m1\u001b[39m]:\n\u001b[0;32m    312\u001b[0m         \u001b[38;5;28;01mraise\u001b[39;00m \u001b[38;5;167;01mValueError\u001b[39;00m(\u001b[38;5;124m\"\u001b[39m\u001b[38;5;124mX.shape[0] should be equal to X.shape[1]\u001b[39m\u001b[38;5;124m\"\u001b[39m)\n",
      "File \u001b[1;32mc:\\Users\\ADMIN\\AppData\\Local\\Programs\\Python\\Python311\\Lib\\site-packages\\sklearn\\svm\\_base.py:507\u001b[0m, in \u001b[0;36mBaseLibSVM._compute_kernel\u001b[1;34m(self, X)\u001b[0m\n\u001b[0;32m    503\u001b[0m \u001b[38;5;250m\u001b[39m\u001b[38;5;124;03m\"\"\"Return the data transformed by a callable kernel\"\"\"\u001b[39;00m\n\u001b[0;32m    504\u001b[0m \u001b[38;5;28;01mif\u001b[39;00m \u001b[38;5;28mcallable\u001b[39m(\u001b[38;5;28mself\u001b[39m\u001b[38;5;241m.\u001b[39mkernel):\n\u001b[0;32m    505\u001b[0m     \u001b[38;5;66;03m# in the case of precomputed kernel given as a function, we\u001b[39;00m\n\u001b[0;32m    506\u001b[0m     \u001b[38;5;66;03m# have to compute explicitly the kernel matrix\u001b[39;00m\n\u001b[1;32m--> 507\u001b[0m     kernel \u001b[38;5;241m=\u001b[39m \u001b[38;5;28;43mself\u001b[39;49m\u001b[38;5;241;43m.\u001b[39;49m\u001b[43mkernel\u001b[49m\u001b[43m(\u001b[49m\u001b[43mX\u001b[49m\u001b[43m,\u001b[49m\u001b[43m \u001b[49m\u001b[38;5;28;43mself\u001b[39;49m\u001b[38;5;241;43m.\u001b[39;49m\u001b[43m__Xfit\u001b[49m\u001b[43m)\u001b[49m\n\u001b[0;32m    508\u001b[0m     \u001b[38;5;28;01mif\u001b[39;00m sp\u001b[38;5;241m.\u001b[39missparse(kernel):\n\u001b[0;32m    509\u001b[0m         kernel \u001b[38;5;241m=\u001b[39m kernel\u001b[38;5;241m.\u001b[39mtoarray()\n",
      "File \u001b[1;32mc:\\Users\\ADMIN\\AppData\\Local\\Programs\\Python\\Python311\\Lib\\site-packages\\qiskit_machine_learning\\kernels\\quantum_kernel.py:501\u001b[0m, in \u001b[0;36mQuantumKernel.evaluate\u001b[1;34m(self, x_vec, y_vec)\u001b[0m\n\u001b[0;32m    496\u001b[0m \u001b[38;5;28;01mif\u001b[39;00m \u001b[38;5;28mself\u001b[39m\u001b[38;5;241m.\u001b[39m_quantum_instance \u001b[38;5;129;01mis\u001b[39;00m \u001b[38;5;28;01mNone\u001b[39;00m:\n\u001b[0;32m    497\u001b[0m     \u001b[38;5;28;01mraise\u001b[39;00m QiskitMachineLearningError(\n\u001b[0;32m    498\u001b[0m         \u001b[38;5;124m\"\u001b[39m\u001b[38;5;124mA QuantumInstance or Backend must be supplied to evaluate a quantum kernel.\u001b[39m\u001b[38;5;124m\"\u001b[39m\n\u001b[0;32m    499\u001b[0m     )\n\u001b[1;32m--> 501\u001b[0m x_vec, y_vec \u001b[38;5;241m=\u001b[39m \u001b[38;5;28;43mself\u001b[39;49m\u001b[38;5;241;43m.\u001b[39;49m\u001b[43m_validate_input\u001b[49m\u001b[43m(\u001b[49m\u001b[43mx_vec\u001b[49m\u001b[43m,\u001b[49m\u001b[43m \u001b[49m\u001b[43my_vec\u001b[49m\u001b[43m)\u001b[49m\n\u001b[0;32m    503\u001b[0m \u001b[38;5;66;03m# determine if calculating self inner product\u001b[39;00m\n\u001b[0;32m    504\u001b[0m is_symmetric \u001b[38;5;241m=\u001b[39m \u001b[38;5;28;01mTrue\u001b[39;00m\n",
      "File \u001b[1;32mc:\\Users\\ADMIN\\AppData\\Local\\Programs\\Python\\Python311\\Lib\\site-packages\\qiskit_machine_learning\\kernels\\quantum_kernel.py:540\u001b[0m, in \u001b[0;36mQuantumKernel._validate_input\u001b[1;34m(self, x_vec, y_vec)\u001b[0m\n\u001b[0;32m    538\u001b[0m         \u001b[38;5;28mself\u001b[39m\u001b[38;5;241m.\u001b[39m_feature_map\u001b[38;5;241m.\u001b[39mnum_qubits \u001b[38;5;241m=\u001b[39m x_vec\u001b[38;5;241m.\u001b[39mshape[\u001b[38;5;241m1\u001b[39m]\n\u001b[0;32m    539\u001b[0m     \u001b[38;5;28;01mexcept\u001b[39;00m \u001b[38;5;167;01mAttributeError\u001b[39;00m:\n\u001b[1;32m--> 540\u001b[0m         \u001b[38;5;28;43mself\u001b[39;49m\u001b[38;5;241;43m.\u001b[39;49m\u001b[43m_raise_incompatible_feature_map\u001b[49m\u001b[43m(\u001b[49m\u001b[38;5;124;43m\"\u001b[39;49m\u001b[38;5;124;43mx_vec\u001b[39;49m\u001b[38;5;124;43m\"\u001b[39;49m\u001b[43m,\u001b[49m\u001b[43m \u001b[49m\u001b[43mx_vec\u001b[49m\u001b[38;5;241;43m.\u001b[39;49m\u001b[43mshape\u001b[49m\u001b[43m[\u001b[49m\u001b[38;5;241;43m1\u001b[39;49m\u001b[43m]\u001b[49m\u001b[43m)\u001b[49m\n\u001b[0;32m    542\u001b[0m \u001b[38;5;28;01mif\u001b[39;00m y_vec \u001b[38;5;129;01mis\u001b[39;00m \u001b[38;5;129;01mnot\u001b[39;00m \u001b[38;5;28;01mNone\u001b[39;00m:\n\u001b[0;32m    543\u001b[0m     y_vec \u001b[38;5;241m=\u001b[39m np\u001b[38;5;241m.\u001b[39masarray(y_vec)\n",
      "File \u001b[1;32mc:\\Users\\ADMIN\\AppData\\Local\\Programs\\Python\\Python311\\Lib\\site-packages\\qiskit_machine_learning\\kernels\\quantum_kernel.py:705\u001b[0m, in \u001b[0;36mQuantumKernel._raise_incompatible_feature_map\u001b[1;34m(self, vec_name, vec_len)\u001b[0m\n\u001b[0;32m    704\u001b[0m \u001b[38;5;28;01mdef\u001b[39;00m \u001b[38;5;21m_raise_incompatible_feature_map\u001b[39m(\u001b[38;5;28mself\u001b[39m, vec_name: \u001b[38;5;28mstr\u001b[39m, vec_len: \u001b[38;5;28mint\u001b[39m) \u001b[38;5;241m-\u001b[39m\u001b[38;5;241m>\u001b[39m NoReturn:\n\u001b[1;32m--> 705\u001b[0m     \u001b[38;5;28;01mraise\u001b[39;00m \u001b[38;5;167;01mValueError\u001b[39;00m(\n\u001b[0;32m    706\u001b[0m         \u001b[38;5;124mf\u001b[39m\u001b[38;5;124m\"\u001b[39m\u001b[38;5;132;01m{\u001b[39;00mvec_name\u001b[38;5;132;01m}\u001b[39;00m\u001b[38;5;124m and class feature map have incompatible dimensions.\u001b[39m\u001b[38;5;130;01m\\n\u001b[39;00m\u001b[38;5;124m\"\u001b[39m\n\u001b[0;32m    707\u001b[0m         \u001b[38;5;124mf\u001b[39m\u001b[38;5;124m\"\u001b[39m\u001b[38;5;132;01m{\u001b[39;00mvec_name\u001b[38;5;132;01m}\u001b[39;00m\u001b[38;5;124m has \u001b[39m\u001b[38;5;132;01m{\u001b[39;00mvec_len\u001b[38;5;132;01m}\u001b[39;00m\u001b[38;5;124m dimensions, \u001b[39m\u001b[38;5;124m\"\u001b[39m\n\u001b[0;32m    708\u001b[0m         \u001b[38;5;124mf\u001b[39m\u001b[38;5;124m\"\u001b[39m\u001b[38;5;124mbut feature map has \u001b[39m\u001b[38;5;132;01m{\u001b[39;00m\u001b[38;5;28mself\u001b[39m\u001b[38;5;241m.\u001b[39m_feature_map\u001b[38;5;241m.\u001b[39mnum_parameters\u001b[38;5;132;01m}\u001b[39;00m\u001b[38;5;124m.\u001b[39m\u001b[38;5;124m\"\u001b[39m\n\u001b[0;32m    709\u001b[0m     )\n",
      "\u001b[1;31mValueError\u001b[0m: x_vec and class feature map have incompatible dimensions.\nx_vec has 4 dimensions, but feature map has 5."
     ]
    }
   ],
   "source": [
    "env_metadata = MetadataSynthesis(\n",
    "    num_qubits= 4,\n",
    "    num_cnot=4, \n",
    "    depth=2,  \n",
    "    num_circuit=4, \n",
    "    num_generation=2,\n",
    "    prob_mutate=0.01  \n",
    ")\n",
    "\n",
    "\n",
    "env = EEnvironment(\n",
    "    metadata = env_metadata,\n",
    "    fitness_func = train_qsvm_with_wine,\n",
    "    generator_func = generator.by_depth_new,\n",
    "    crossover_func = crossover.onepoint(\n",
    "        divider.by_num_rotation_gate(int(env_metadata.num_qubits/2)),\n",
    "        normalizer.by_num_rotation_gate(env_metadata.num_qubits/2)),\n",
    "    mutate_func = mutate.bitflip_mutate(constant.operations),\n",
    "    threshold_func = threshold.synthesis_threshold\n",
    ").evol(verbose=True, mode=\"nonparallel\")\n",
    "\n",
    "\n",
    "test = env.best_circuit\n",
    "print(len(test.parameters))"
   ]
  },
  {
   "cell_type": "code",
   "execution_count": 23,
   "metadata": {},
   "outputs": [
    {
     "name": "stderr",
     "output_type": "stream",
     "text": []
    },
    {
     "name": "stdout",
     "output_type": "stream",
     "text": [
      "Initialize list of circuit ...\n"
     ]
    },
    {
     "name": "stderr",
     "output_type": "stream",
     "text": []
    },
    {
     "name": "stdout",
     "output_type": "stream",
     "text": [
      "Start evol progress ...\n",
      "Running at generation 1\n",
      "parameter:  4\n",
      "parameter:  4\n",
      "parameter:  4\n",
      "parameter:  4\n"
     ]
    },
    {
     "name": "stderr",
     "output_type": "stream",
     "text": [
      "Step: 100%|██████████| 1/1 [00:04<00:00,  4.80s/it]\n"
     ]
    },
    {
     "name": "stdout",
     "output_type": "stream",
     "text": [
      "[0.9231 0.5    0.8846 0.8077]\n",
      "Saving circuit ...\n",
      "running normalizer...\n",
      "running normalizer...\n",
      "Saving circuit ...\n",
      "End evol progress, best score ever: 0.9230769230769231\n",
      "5\n"
     ]
    },
    {
     "name": "stderr",
     "output_type": "stream",
     "text": []
    },
    {
     "name": "stdout",
     "output_type": "stream",
     "text": [
      "Initialize list of circuit ...\n"
     ]
    },
    {
     "name": "stderr",
     "output_type": "stream",
     "text": []
    },
    {
     "name": "stdout",
     "output_type": "stream",
     "text": [
      "Start evol progress ...\n",
      "Running at generation 1\n",
      "parameter:  4\n",
      "parameter:  4\n",
      "parameter:  4\n",
      "parameter:  4\n"
     ]
    },
    {
     "name": "stderr",
     "output_type": "stream",
     "text": [
      "Step: 100%|██████████| 1/1 [00:04<00:00,  4.18s/it]\n"
     ]
    },
    {
     "name": "stdout",
     "output_type": "stream",
     "text": [
      "[0.9231 0.8846 0.9231 0.9231]\n",
      "Saving circuit ...\n",
      "running normalizer...\n",
      "running normalizer...\n",
      "Saving circuit ...\n",
      "End evol progress, best score ever: 0.9230769230769231\n",
      "4\n"
     ]
    },
    {
     "name": "stderr",
     "output_type": "stream",
     "text": []
    },
    {
     "name": "stdout",
     "output_type": "stream",
     "text": [
      "Initialize list of circuit ...\n"
     ]
    },
    {
     "name": "stderr",
     "output_type": "stream",
     "text": []
    },
    {
     "name": "stdout",
     "output_type": "stream",
     "text": [
      "Start evol progress ...\n",
      "Running at generation 1\n",
      "parameter:  4\n",
      "parameter:  4\n",
      "parameter:  4\n",
      "parameter:  4\n"
     ]
    },
    {
     "name": "stderr",
     "output_type": "stream",
     "text": [
      "Step: 100%|██████████| 1/1 [00:02<00:00,  2.52s/it]\n"
     ]
    },
    {
     "name": "stdout",
     "output_type": "stream",
     "text": [
      "[0.6538 0.5769 0.8077 0.9231]\n",
      "Saving circuit ...\n",
      "running normalizer...\n",
      "running normalizer...\n",
      "Saving circuit ...\n",
      "End evol progress, best score ever: 0.9230769230769231\n",
      "5\n"
     ]
    },
    {
     "name": "stderr",
     "output_type": "stream",
     "text": []
    },
    {
     "name": "stdout",
     "output_type": "stream",
     "text": [
      "Initialize list of circuit ...\n"
     ]
    },
    {
     "name": "stderr",
     "output_type": "stream",
     "text": []
    },
    {
     "name": "stdout",
     "output_type": "stream",
     "text": [
      "Start evol progress ...\n",
      "Running at generation 1\n",
      "parameter:  4\n",
      "parameter:  4\n",
      "parameter:  4\n",
      "parameter:  4\n"
     ]
    },
    {
     "name": "stderr",
     "output_type": "stream",
     "text": [
      "Step: 100%|██████████| 1/1 [00:02<00:00,  2.40s/it]\n"
     ]
    },
    {
     "name": "stdout",
     "output_type": "stream",
     "text": [
      "[0.7692 0.7692 0.6154 0.8846]\n",
      "Saving circuit ...\n",
      "running normalizer...\n",
      "running normalizer...\n",
      "Saving circuit ...\n",
      "End evol progress, best score ever: 0.8846153846153846\n",
      "7\n"
     ]
    },
    {
     "name": "stderr",
     "output_type": "stream",
     "text": []
    },
    {
     "name": "stdout",
     "output_type": "stream",
     "text": [
      "Initialize list of circuit ...\n"
     ]
    },
    {
     "name": "stderr",
     "output_type": "stream",
     "text": []
    },
    {
     "name": "stdout",
     "output_type": "stream",
     "text": [
      "Start evol progress ...\n",
      "Running at generation 1\n",
      "parameter:  4\n",
      "parameter:  4\n",
      "parameter:  4\n",
      "parameter:  4\n"
     ]
    },
    {
     "name": "stderr",
     "output_type": "stream",
     "text": [
      "Step: 100%|██████████| 1/1 [00:02<00:00,  2.64s/it]\n"
     ]
    },
    {
     "name": "stdout",
     "output_type": "stream",
     "text": [
      "[0.5    0.5    0.8846 0.9231]\n",
      "Saving circuit ...\n",
      "running normalizer...\n",
      "running normalizer...\n",
      "Saving circuit ...\n",
      "End evol progress, best score ever: 0.9230769230769231\n",
      "5\n"
     ]
    },
    {
     "name": "stderr",
     "output_type": "stream",
     "text": []
    },
    {
     "name": "stdout",
     "output_type": "stream",
     "text": [
      "Initialize list of circuit ...\n"
     ]
    },
    {
     "name": "stderr",
     "output_type": "stream",
     "text": []
    },
    {
     "name": "stdout",
     "output_type": "stream",
     "text": [
      "Start evol progress ...\n",
      "Running at generation 1\n",
      "parameter:  4\n",
      "parameter:  4\n",
      "parameter:  4\n",
      "parameter:  4\n"
     ]
    },
    {
     "name": "stderr",
     "output_type": "stream",
     "text": [
      "Step: 100%|██████████| 1/1 [00:03<00:00,  3.13s/it]\n"
     ]
    },
    {
     "name": "stdout",
     "output_type": "stream",
     "text": [
      "[0.5769 0.5    0.8846 0.8462]\n",
      "Saving circuit ...\n",
      "running normalizer...\n",
      "running normalizer...\n",
      "Saving circuit ...\n",
      "End evol progress, best score ever: 0.8846153846153846\n",
      "4\n"
     ]
    },
    {
     "name": "stderr",
     "output_type": "stream",
     "text": []
    },
    {
     "name": "stdout",
     "output_type": "stream",
     "text": [
      "Initialize list of circuit ...\n"
     ]
    },
    {
     "name": "stderr",
     "output_type": "stream",
     "text": []
    },
    {
     "name": "stdout",
     "output_type": "stream",
     "text": [
      "Start evol progress ...\n",
      "Running at generation 1\n",
      "parameter:  4\n",
      "parameter:  4\n",
      "parameter:  4\n",
      "parameter:  4\n"
     ]
    },
    {
     "name": "stderr",
     "output_type": "stream",
     "text": [
      "Step: 100%|██████████| 1/1 [00:03<00:00,  3.25s/it]\n"
     ]
    },
    {
     "name": "stdout",
     "output_type": "stream",
     "text": [
      "[0.8846 0.8077 0.9231 0.8077]\n",
      "Saving circuit ...\n",
      "running normalizer...\n",
      "running normalizer...\n",
      "Saving circuit ...\n",
      "End evol progress, best score ever: 0.9230769230769231\n",
      "5\n"
     ]
    },
    {
     "name": "stderr",
     "output_type": "stream",
     "text": []
    },
    {
     "name": "stdout",
     "output_type": "stream",
     "text": [
      "Initialize list of circuit ...\n"
     ]
    },
    {
     "name": "stderr",
     "output_type": "stream",
     "text": []
    },
    {
     "name": "stdout",
     "output_type": "stream",
     "text": [
      "Start evol progress ...\n",
      "Running at generation 1\n",
      "parameter:  4\n",
      "parameter:  4\n",
      "parameter:  4\n",
      "parameter:  4\n"
     ]
    },
    {
     "name": "stderr",
     "output_type": "stream",
     "text": [
      "Step: 100%|██████████| 1/1 [00:04<00:00,  4.29s/it]\n"
     ]
    },
    {
     "name": "stdout",
     "output_type": "stream",
     "text": [
      "[0.5    0.5385 0.9231 0.5   ]\n",
      "Saving circuit ...\n",
      "running normalizer...\n",
      "running normalizer...\n",
      "Saving circuit ...\n",
      "End evol progress, best score ever: 0.9230769230769231\n",
      "4\n"
     ]
    },
    {
     "name": "stderr",
     "output_type": "stream",
     "text": []
    },
    {
     "name": "stdout",
     "output_type": "stream",
     "text": [
      "Initialize list of circuit ...\n"
     ]
    },
    {
     "name": "stderr",
     "output_type": "stream",
     "text": []
    },
    {
     "name": "stdout",
     "output_type": "stream",
     "text": [
      "Start evol progress ...\n",
      "Running at generation 1\n",
      "parameter:  4\n",
      "parameter:  4\n",
      "parameter:  4\n",
      "parameter:  4\n"
     ]
    },
    {
     "name": "stderr",
     "output_type": "stream",
     "text": [
      "Step: 100%|██████████| 1/1 [00:03<00:00,  3.60s/it]\n"
     ]
    },
    {
     "name": "stdout",
     "output_type": "stream",
     "text": [
      "[0.5769 0.5    0.9231 0.8846]\n",
      "Saving circuit ...\n",
      "running normalizer...\n",
      "running normalizer...\n",
      "Saving circuit ...\n",
      "End evol progress, best score ever: 0.9230769230769231\n",
      "4\n"
     ]
    },
    {
     "name": "stderr",
     "output_type": "stream",
     "text": []
    },
    {
     "name": "stdout",
     "output_type": "stream",
     "text": [
      "Initialize list of circuit ...\n"
     ]
    },
    {
     "name": "stderr",
     "output_type": "stream",
     "text": []
    },
    {
     "name": "stdout",
     "output_type": "stream",
     "text": [
      "Start evol progress ...\n",
      "Running at generation 1\n",
      "parameter:  4\n",
      "parameter:  4\n",
      "parameter:  4\n",
      "parameter:  4\n"
     ]
    },
    {
     "name": "stderr",
     "output_type": "stream",
     "text": [
      "Step: 100%|██████████| 1/1 [00:03<00:00,  3.71s/it]\n"
     ]
    },
    {
     "name": "stdout",
     "output_type": "stream",
     "text": [
      "[0.9231 0.5769 0.5    0.8846]\n",
      "Saving circuit ...\n",
      "running normalizer...\n",
      "running normalizer...\n",
      "Saving circuit ...\n",
      "End evol progress, best score ever: 0.9230769230769231\n",
      "4\n"
     ]
    },
    {
     "name": "stderr",
     "output_type": "stream",
     "text": []
    },
    {
     "name": "stdout",
     "output_type": "stream",
     "text": [
      "Initialize list of circuit ...\n"
     ]
    },
    {
     "name": "stderr",
     "output_type": "stream",
     "text": []
    },
    {
     "name": "stdout",
     "output_type": "stream",
     "text": [
      "Start evol progress ...\n",
      "Running at generation 1\n",
      "parameter:  4\n",
      "parameter:  4\n",
      "parameter:  4\n",
      "parameter:  4\n"
     ]
    },
    {
     "name": "stderr",
     "output_type": "stream",
     "text": [
      "Step: 100%|██████████| 1/1 [00:04<00:00,  4.55s/it]\n"
     ]
    },
    {
     "name": "stdout",
     "output_type": "stream",
     "text": [
      "[0.8077 0.9231 0.5769 0.5   ]\n",
      "Saving circuit ...\n",
      "running normalizer...\n",
      "running normalizer...\n",
      "Saving circuit ...\n",
      "End evol progress, best score ever: 0.9230769230769231\n",
      "4\n"
     ]
    },
    {
     "name": "stderr",
     "output_type": "stream",
     "text": []
    },
    {
     "name": "stdout",
     "output_type": "stream",
     "text": [
      "Initialize list of circuit ...\n"
     ]
    },
    {
     "name": "stderr",
     "output_type": "stream",
     "text": []
    },
    {
     "name": "stdout",
     "output_type": "stream",
     "text": [
      "Start evol progress ...\n",
      "Running at generation 1\n",
      "parameter:  4\n",
      "parameter:  4\n",
      "parameter:  4\n",
      "parameter:  4\n"
     ]
    },
    {
     "name": "stderr",
     "output_type": "stream",
     "text": [
      "Step: 100%|██████████| 1/1 [00:03<00:00,  3.57s/it]\n"
     ]
    },
    {
     "name": "stdout",
     "output_type": "stream",
     "text": [
      "[0.6154 0.8846 0.9231 0.7692]\n",
      "Saving circuit ...\n",
      "running normalizer...\n",
      "running normalizer...\n",
      "Saving circuit ...\n",
      "End evol progress, best score ever: 0.9230769230769231\n",
      "5\n"
     ]
    },
    {
     "name": "stderr",
     "output_type": "stream",
     "text": []
    },
    {
     "name": "stdout",
     "output_type": "stream",
     "text": [
      "Initialize list of circuit ...\n"
     ]
    },
    {
     "name": "stderr",
     "output_type": "stream",
     "text": []
    },
    {
     "name": "stdout",
     "output_type": "stream",
     "text": [
      "Start evol progress ...\n",
      "Running at generation 1\n",
      "parameter:  4\n",
      "parameter:  4\n",
      "parameter:  4\n",
      "parameter:  4\n"
     ]
    },
    {
     "name": "stderr",
     "output_type": "stream",
     "text": [
      "Step: 100%|██████████| 1/1 [00:04<00:00,  4.53s/it]\n"
     ]
    },
    {
     "name": "stdout",
     "output_type": "stream",
     "text": [
      "[0.6923 0.8077 0.8077 0.8846]\n",
      "Saving circuit ...\n",
      "running normalizer...\n",
      "running normalizer...\n",
      "Saving circuit ...\n",
      "End evol progress, best score ever: 0.8846153846153846\n",
      "5\n"
     ]
    },
    {
     "name": "stderr",
     "output_type": "stream",
     "text": []
    },
    {
     "name": "stdout",
     "output_type": "stream",
     "text": [
      "Initialize list of circuit ...\n"
     ]
    },
    {
     "name": "stderr",
     "output_type": "stream",
     "text": []
    },
    {
     "name": "stdout",
     "output_type": "stream",
     "text": [
      "Start evol progress ...\n",
      "Running at generation 1\n",
      "parameter:  4\n",
      "parameter:  4\n",
      "parameter:  4\n",
      "parameter:  4\n"
     ]
    },
    {
     "name": "stderr",
     "output_type": "stream",
     "text": [
      "Step: 100%|██████████| 1/1 [00:03<00:00,  3.25s/it]\n"
     ]
    },
    {
     "name": "stdout",
     "output_type": "stream",
     "text": [
      "[0.8077 0.8462 0.6154 0.7692]\n",
      "Saving circuit ...\n",
      "running normalizer...\n",
      "running normalizer...\n",
      "Saving circuit ...\n",
      "End evol progress, best score ever: 0.8461538461538461\n",
      "6\n"
     ]
    },
    {
     "name": "stderr",
     "output_type": "stream",
     "text": []
    },
    {
     "name": "stdout",
     "output_type": "stream",
     "text": [
      "Initialize list of circuit ...\n"
     ]
    },
    {
     "name": "stderr",
     "output_type": "stream",
     "text": []
    },
    {
     "name": "stdout",
     "output_type": "stream",
     "text": [
      "Start evol progress ...\n",
      "Running at generation 1\n",
      "parameter:  4\n",
      "parameter:  4\n",
      "parameter:  4\n",
      "parameter:  4\n"
     ]
    },
    {
     "name": "stderr",
     "output_type": "stream",
     "text": [
      "Step: 100%|██████████| 1/1 [00:02<00:00,  2.79s/it]\n"
     ]
    },
    {
     "name": "stdout",
     "output_type": "stream",
     "text": [
      "[0.8846 0.6538 0.5    0.5385]\n",
      "Saving circuit ...\n",
      "running normalizer...\n",
      "running normalizer...\n",
      "Saving circuit ...\n",
      "End evol progress, best score ever: 0.8846153846153846\n",
      "4\n"
     ]
    },
    {
     "name": "stderr",
     "output_type": "stream",
     "text": []
    },
    {
     "name": "stdout",
     "output_type": "stream",
     "text": [
      "Initialize list of circuit ...\n"
     ]
    },
    {
     "name": "stderr",
     "output_type": "stream",
     "text": []
    },
    {
     "name": "stdout",
     "output_type": "stream",
     "text": [
      "Start evol progress ...\n",
      "Running at generation 1\n",
      "parameter:  4\n",
      "parameter:  4\n",
      "parameter:  4\n",
      "parameter:  4\n"
     ]
    },
    {
     "name": "stderr",
     "output_type": "stream",
     "text": [
      "Step: 100%|██████████| 1/1 [00:03<00:00,  3.14s/it]\n"
     ]
    },
    {
     "name": "stdout",
     "output_type": "stream",
     "text": [
      "[0.5769 0.8077 0.9231 0.5385]\n",
      "Saving circuit ...\n",
      "running normalizer...\n",
      "running normalizer...\n",
      "Saving circuit ...\n",
      "End evol progress, best score ever: 0.9230769230769231\n",
      "4\n"
     ]
    },
    {
     "name": "stderr",
     "output_type": "stream",
     "text": []
    },
    {
     "name": "stdout",
     "output_type": "stream",
     "text": [
      "Initialize list of circuit ...\n"
     ]
    },
    {
     "name": "stderr",
     "output_type": "stream",
     "text": []
    },
    {
     "name": "stdout",
     "output_type": "stream",
     "text": [
      "Start evol progress ...\n",
      "Running at generation 1\n",
      "parameter:  4\n",
      "parameter:  4\n",
      "parameter:  4\n",
      "parameter:  4\n"
     ]
    },
    {
     "name": "stderr",
     "output_type": "stream",
     "text": [
      "Step: 100%|██████████| 1/1 [00:02<00:00,  2.71s/it]\n"
     ]
    },
    {
     "name": "stdout",
     "output_type": "stream",
     "text": [
      "[0.9231 0.5    0.9615 0.7692]\n",
      "Saving circuit ...\n",
      "running normalizer...\n",
      "running normalizer...\n",
      "Saving circuit ...\n",
      "End evol progress, best score ever: 0.9615384615384616\n",
      "4\n"
     ]
    },
    {
     "name": "stderr",
     "output_type": "stream",
     "text": []
    },
    {
     "name": "stdout",
     "output_type": "stream",
     "text": [
      "Initialize list of circuit ...\n"
     ]
    },
    {
     "name": "stderr",
     "output_type": "stream",
     "text": []
    },
    {
     "name": "stdout",
     "output_type": "stream",
     "text": [
      "Start evol progress ...\n",
      "Running at generation 1\n",
      "parameter:  4\n",
      "parameter:  4\n",
      "parameter:  4\n",
      "parameter:  4\n"
     ]
    },
    {
     "name": "stderr",
     "output_type": "stream",
     "text": [
      "Step: 100%|██████████| 1/1 [00:03<00:00,  3.48s/it]\n"
     ]
    },
    {
     "name": "stdout",
     "output_type": "stream",
     "text": [
      "[0.9231 0.8846 0.7692 0.6923]\n",
      "Saving circuit ...\n",
      "running normalizer...\n",
      "running normalizer...\n",
      "Saving circuit ...\n",
      "End evol progress, best score ever: 0.9230769230769231\n",
      "7\n"
     ]
    },
    {
     "name": "stderr",
     "output_type": "stream",
     "text": []
    },
    {
     "name": "stdout",
     "output_type": "stream",
     "text": [
      "Initialize list of circuit ...\n"
     ]
    },
    {
     "name": "stderr",
     "output_type": "stream",
     "text": []
    },
    {
     "name": "stdout",
     "output_type": "stream",
     "text": [
      "Start evol progress ...\n",
      "Running at generation 1\n",
      "parameter:  4\n",
      "parameter:  4\n",
      "parameter:  4\n",
      "parameter:  4\n"
     ]
    },
    {
     "name": "stderr",
     "output_type": "stream",
     "text": [
      "Step: 100%|██████████| 1/1 [00:04<00:00,  4.02s/it]\n"
     ]
    },
    {
     "name": "stdout",
     "output_type": "stream",
     "text": [
      "[0.9231 0.8846 0.8462 0.8846]\n",
      "Saving circuit ...\n",
      "running normalizer...\n",
      "running normalizer...\n",
      "Saving circuit ...\n",
      "End evol progress, best score ever: 0.9230769230769231\n",
      "5\n"
     ]
    },
    {
     "name": "stderr",
     "output_type": "stream",
     "text": []
    },
    {
     "name": "stdout",
     "output_type": "stream",
     "text": [
      "Initialize list of circuit ...\n"
     ]
    },
    {
     "name": "stderr",
     "output_type": "stream",
     "text": []
    },
    {
     "name": "stdout",
     "output_type": "stream",
     "text": [
      "Start evol progress ...\n",
      "Running at generation 1\n",
      "parameter:  4\n",
      "parameter:  4\n",
      "parameter:  4\n",
      "parameter:  4\n"
     ]
    },
    {
     "name": "stderr",
     "output_type": "stream",
     "text": [
      "Step: 100%|██████████| 1/1 [00:03<00:00,  3.70s/it]"
     ]
    },
    {
     "name": "stdout",
     "output_type": "stream",
     "text": [
      "[0.5    0.9231 0.9231 0.8846]\n",
      "Saving circuit ...\n",
      "running normalizer...\n",
      "running normalizer...\n",
      "Saving circuit ...\n",
      "End evol progress, best score ever: 0.9230769230769231\n",
      "4\n"
     ]
    },
    {
     "name": "stderr",
     "output_type": "stream",
     "text": [
      "\n"
     ]
    }
   ],
   "source": [
    "for i in range(0,20):\n",
    "    env_metadata = MetadataSynthesis(\n",
    "    num_qubits= 4,\n",
    "    num_cnot=4, \n",
    "    depth=2,  \n",
    "    num_circuit=4, \n",
    "    num_generation=1,\n",
    "    prob_mutate=0.01  \n",
    ")\n",
    "\n",
    "\n",
    "    env = EEnvironment(\n",
    "        metadata = env_metadata,\n",
    "        fitness_func = train_qsvm_with_wine,\n",
    "        generator_func = generator.by_depth_new,\n",
    "        crossover_func = crossover.onepoint(\n",
    "            divider.by_num_rotation_gate(int(env_metadata.num_qubits/2)),\n",
    "            normalizer.by_num_rotation_gate(env_metadata.num_qubits/2)),\n",
    "        mutate_func = mutate.bitflip_mutate(constant.operations),\n",
    "        threshold_func = threshold.synthesis_threshold\n",
    "    ).evol(verbose=True, mode=\"nonparallel\")\n",
    "\n",
    "\n",
    "    test = env.best_circuit\n",
    "    print(len(test.parameters))"
   ]
  },
  {
   "cell_type": "code",
   "execution_count": 14,
   "metadata": {},
   "outputs": [],
   "source": [
    "\n",
    "\n",
    "def train_qsvm_with_Credit(quantum_circuit):\n",
    "    \n",
    "    # PCA - \n",
    "    pca = PCA(n_components=len(quantum_circuit.parameters))\n",
    "    X_train_pca = pca.fit_transform(X_train)\n",
    "    X_test_pca = pca.fit_transform(X_test)\n",
    "\n",
    "    print(\"Param: \", len(quantum_circuit.parameters))\n",
    "    print(\"Feature: \",X_train_pca.shape[1])\n",
    "    \n",
    "    print(quantum_circuit.draw())\n",
    "    backend = Aer.get_backend('statevector_simulator')\n",
    "    quantum_kernel = QuantumKernel(feature_map=quantum_circuit, quantum_instance=backend)\n",
    "    qsvc = QSVC(quantum_kernel=quantum_kernel)\n",
    "    qsvc.fit(X_train_pca, y_train)\n",
    "    y_pred = qsvc.predict(X_test_pca)\n",
    "    accuracy = accuracy_score(y_test, y_pred)\n",
    "\n",
    "    return accuracy"
   ]
  },
  {
   "cell_type": "code",
   "execution_count": 15,
   "metadata": {},
   "outputs": [
    {
     "name": "stderr",
     "output_type": "stream",
     "text": [
      "Step:   0%|          | 0/1 [00:00<?, ?it/s]"
     ]
    },
    {
     "name": "stdout",
     "output_type": "stream",
     "text": [
      "Initialize list of circuit ...\n"
     ]
    },
    {
     "ename": "KeyboardInterrupt",
     "evalue": "",
     "output_type": "error",
     "traceback": [
      "\u001b[1;31m---------------------------------------------------------------------------\u001b[0m",
      "\u001b[1;31mKeyboardInterrupt\u001b[0m                         Traceback (most recent call last)",
      "Cell \u001b[1;32mIn[15], line 18\u001b[0m\n\u001b[0;32m      1\u001b[0m env_metadata_credit \u001b[38;5;241m=\u001b[39m MetadataSynthesis(\n\u001b[0;32m      2\u001b[0m     num_qubits\u001b[38;5;241m=\u001b[39m \u001b[38;5;241m3\u001b[39m,\n\u001b[0;32m      3\u001b[0m     num_cnot\u001b[38;5;241m=\u001b[39m\u001b[38;5;241m3\u001b[39m, \n\u001b[1;32m   (...)\u001b[0m\n\u001b[0;32m      7\u001b[0m     prob_mutate\u001b[38;5;241m=\u001b[39m\u001b[38;5;241m0.01\u001b[39m  \n\u001b[0;32m      8\u001b[0m )\n\u001b[0;32m      9\u001b[0m env \u001b[38;5;241m=\u001b[39m \u001b[43mEEnvironment\u001b[49m\u001b[43m(\u001b[49m\n\u001b[0;32m     10\u001b[0m \u001b[43m    \u001b[49m\u001b[43mmetadata\u001b[49m\u001b[43m \u001b[49m\u001b[38;5;241;43m=\u001b[39;49m\u001b[43m \u001b[49m\u001b[43menv_metadata_credit\u001b[49m\u001b[43m,\u001b[49m\n\u001b[0;32m     11\u001b[0m \u001b[43m    \u001b[49m\u001b[43mfitness_func\u001b[49m\u001b[43m \u001b[49m\u001b[38;5;241;43m=\u001b[39;49m\u001b[43m \u001b[49m\u001b[43mtrain_qsvm_with_Credit\u001b[49m\u001b[43m,\u001b[49m\n\u001b[0;32m     12\u001b[0m \u001b[43m    \u001b[49m\u001b[43mgenerator_func\u001b[49m\u001b[43m \u001b[49m\u001b[38;5;241;43m=\u001b[39;49m\u001b[43m \u001b[49m\u001b[43mgenerator\u001b[49m\u001b[38;5;241;43m.\u001b[39;49m\u001b[43mby_depth_new\u001b[49m\u001b[43m,\u001b[49m\n\u001b[0;32m     13\u001b[0m \u001b[43m    \u001b[49m\u001b[43mcrossover_func\u001b[49m\u001b[43m \u001b[49m\u001b[38;5;241;43m=\u001b[39;49m\u001b[43m \u001b[49m\u001b[43mcrossover\u001b[49m\u001b[38;5;241;43m.\u001b[39;49m\u001b[43monepoint\u001b[49m\u001b[43m(\u001b[49m\n\u001b[0;32m     14\u001b[0m \u001b[43m        \u001b[49m\u001b[43mdivider\u001b[49m\u001b[38;5;241;43m.\u001b[39;49m\u001b[43mby_depth\u001b[49m\u001b[43m(\u001b[49m\u001b[38;5;28;43mint\u001b[39;49m\u001b[43m(\u001b[49m\u001b[43menv_metadata_credit\u001b[49m\u001b[38;5;241;43m.\u001b[39;49m\u001b[43mnum_cnot\u001b[49m\u001b[38;5;241;43m/\u001b[39;49m\u001b[38;5;241;43m2\u001b[39;49m\u001b[43m)\u001b[49m\u001b[43m)\u001b[49m\u001b[43m,\u001b[49m\n\u001b[0;32m     15\u001b[0m \u001b[43m        \u001b[49m\u001b[43mnormalizer\u001b[49m\u001b[38;5;241;43m.\u001b[39;49m\u001b[43mby_depth\u001b[49m\u001b[43m(\u001b[49m\u001b[43menv_metadata_credit\u001b[49m\u001b[38;5;241;43m.\u001b[39;49m\u001b[43mnum_cnot\u001b[49m\u001b[43m)\u001b[49m\u001b[43m)\u001b[49m\u001b[43m,\u001b[49m\n\u001b[0;32m     16\u001b[0m \u001b[43m    \u001b[49m\u001b[43mmutate_func\u001b[49m\u001b[43m \u001b[49m\u001b[38;5;241;43m=\u001b[39;49m\u001b[43m \u001b[49m\u001b[43mmutate\u001b[49m\u001b[38;5;241;43m.\u001b[39;49m\u001b[43mbitflip_mutate\u001b[49m\u001b[43m(\u001b[49m\u001b[43mconstant\u001b[49m\u001b[38;5;241;43m.\u001b[39;49m\u001b[43moperations\u001b[49m\u001b[43m)\u001b[49m\u001b[43m,\u001b[49m\n\u001b[0;32m     17\u001b[0m \u001b[43m    \u001b[49m\u001b[43mthreshold_func\u001b[49m\u001b[43m \u001b[49m\u001b[38;5;241;43m=\u001b[39;49m\u001b[43m \u001b[49m\u001b[43mthreshold\u001b[49m\u001b[38;5;241;43m.\u001b[39;49m\u001b[43msynthesis_threshold\u001b[49m\n\u001b[1;32m---> 18\u001b[0m \u001b[43m)\u001b[49m\u001b[38;5;241;43m.\u001b[39;49m\u001b[43mevol\u001b[49m\u001b[43m(\u001b[49m\u001b[43mverbose\u001b[49m\u001b[38;5;241;43m=\u001b[39;49m\u001b[38;5;28;43;01mTrue\u001b[39;49;00m\u001b[43m,\u001b[49m\u001b[43m \u001b[49m\u001b[43mmode\u001b[49m\u001b[38;5;241;43m=\u001b[39;49m\u001b[38;5;124;43m\"\u001b[39;49m\u001b[38;5;124;43mnonparallel\u001b[39;49m\u001b[38;5;124;43m\"\u001b[39;49m\u001b[43m)\u001b[49m\n",
      "File \u001b[1;32mc:\\Desktop\\GA+QSVM\\qoopmaster\\evolution\\environment.py:141\u001b[0m, in \u001b[0;36mEEnvironment.evol\u001b[1;34m(self, verbose, mode, auto_save)\u001b[0m\n\u001b[0;32m    139\u001b[0m \u001b[38;5;28;01mif\u001b[39;00m \u001b[38;5;28mself\u001b[39m\u001b[38;5;241m.\u001b[39mmetadata\u001b[38;5;241m.\u001b[39mcurrent_generation \u001b[38;5;241m==\u001b[39m \u001b[38;5;241m0\u001b[39m:\n\u001b[0;32m    140\u001b[0m     \u001b[38;5;28mprint\u001b[39m(\u001b[38;5;124m\"\u001b[39m\u001b[38;5;124mInitialize list of circuit ...\u001b[39m\u001b[38;5;124m\"\u001b[39m)\n\u001b[1;32m--> 141\u001b[0m     \u001b[38;5;28;43mself\u001b[39;49m\u001b[38;5;241;43m.\u001b[39;49m\u001b[43minit\u001b[49m\u001b[43m(\u001b[49m\u001b[43m)\u001b[49m\n\u001b[0;32m    142\u001b[0m     \u001b[38;5;28mprint\u001b[39m(\u001b[38;5;124m\"\u001b[39m\u001b[38;5;124mStart evol progress ...\u001b[39m\u001b[38;5;124m\"\u001b[39m)\n\u001b[0;32m    143\u001b[0m \u001b[38;5;28;01melif\u001b[39;00m \u001b[38;5;28mself\u001b[39m\u001b[38;5;241m.\u001b[39mmetadata\u001b[38;5;241m.\u001b[39mcurrent_generation \u001b[38;5;241m==\u001b[39m \u001b[38;5;28mself\u001b[39m\u001b[38;5;241m.\u001b[39mmetadata\u001b[38;5;241m.\u001b[39mnum_generation:\n",
      "File \u001b[1;32mc:\\Desktop\\GA+QSVM\\qoopmaster\\evolution\\environment.py:236\u001b[0m, in \u001b[0;36mEEnvironment.init\u001b[1;34m(self)\u001b[0m\n\u001b[0;32m    234\u001b[0m num_sastify_circuit \u001b[38;5;241m=\u001b[39m \u001b[38;5;241m0\u001b[39m\n\u001b[0;32m    235\u001b[0m \u001b[38;5;28;01mwhile\u001b[39;00m (num_sastify_circuit \u001b[38;5;241m<\u001b[39m \u001b[38;5;28mself\u001b[39m\u001b[38;5;241m.\u001b[39mmetadata\u001b[38;5;241m.\u001b[39mnum_circuit):\n\u001b[1;32m--> 236\u001b[0m     circuit \u001b[38;5;241m=\u001b[39m \u001b[38;5;28;43mself\u001b[39;49m\u001b[38;5;241;43m.\u001b[39;49m\u001b[43mgenerator_func\u001b[49m\u001b[43m(\u001b[49m\u001b[38;5;28;43mself\u001b[39;49m\u001b[38;5;241;43m.\u001b[39;49m\u001b[43mmetadata\u001b[49m\u001b[43m)\u001b[49m\n\u001b[0;32m    237\u001b[0m     \u001b[38;5;28;01mif\u001b[39;00m sastify_circuit(circuit):\n\u001b[0;32m    238\u001b[0m         num_sastify_circuit \u001b[38;5;241m+\u001b[39m\u001b[38;5;241m=\u001b[39m \u001b[38;5;241m1\u001b[39m\n",
      "File \u001b[1;32mc:\\Desktop\\GA+QSVM\\qoopmaster\\evolution\\generator.py:62\u001b[0m, in \u001b[0;36mby_depth_new\u001b[1;34m(metadata)\u001b[0m\n\u001b[0;32m     57\u001b[0m remaining_qubits \u001b[38;5;241m=\u001b[39m [\n\u001b[0;32m     58\u001b[0m     q \u001b[38;5;28;01mfor\u001b[39;00m q \u001b[38;5;129;01min\u001b[39;00m remaining_qubits \u001b[38;5;28;01mif\u001b[39;00m q \u001b[38;5;129;01mnot\u001b[39;00m \u001b[38;5;129;01min\u001b[39;00m operands]\n\u001b[0;32m     59\u001b[0m num_op_pool \u001b[38;5;241m=\u001b[39m [\n\u001b[0;32m     60\u001b[0m     item \u001b[38;5;28;01mfor\u001b[39;00m item \u001b[38;5;129;01min\u001b[39;00m pool \u001b[38;5;28;01mif\u001b[39;00m item[\u001b[38;5;124m'\u001b[39m\u001b[38;5;124mnum_op\u001b[39m\u001b[38;5;124m'\u001b[39m] \u001b[38;5;241m==\u001b[39m num_operands]\n\u001b[1;32m---> 62\u001b[0m operation \u001b[38;5;241m=\u001b[39m rng\u001b[38;5;241m.\u001b[39mchoice(num_op_pool)\n\u001b[0;32m     63\u001b[0m num_params \u001b[38;5;241m=\u001b[39m operation[\u001b[38;5;124m'\u001b[39m\u001b[38;5;124mnum_params\u001b[39m\u001b[38;5;124m'\u001b[39m]\n\u001b[0;32m     64\u001b[0m thetas_length \u001b[38;5;241m+\u001b[39m\u001b[38;5;241m=\u001b[39m num_params\n",
      "\u001b[1;31mKeyboardInterrupt\u001b[0m: "
     ]
    }
   ],
   "source": [
    "env_metadata_credit = MetadataSynthesis(\n",
    "    num_qubits= 3,\n",
    "    num_cnot=3, \n",
    "    depth=3,  \n",
    "    num_circuit=5, \n",
    "    num_generation=1,\n",
    "    prob_mutate=0.01  \n",
    ")\n",
    "env = EEnvironment(\n",
    "    metadata = env_metadata_credit,\n",
    "    fitness_func = train_qsvm_with_Credit,\n",
    "    generator_func = generator.by_depth_new,\n",
    "    crossover_func = crossover.onepoint(\n",
    "        divider.by_depth(int(env_metadata_credit.num_cnot/2)),\n",
    "        normalizer.by_depth(env_metadata_credit.num_cnot)),\n",
    "    mutate_func = mutate.bitflip_mutate(constant.operations),\n",
    "    threshold_func = threshold.synthesis_threshold\n",
    ").evol(verbose=True, mode=\"nonparallel\")\n"
   ]
  },
  {
   "cell_type": "code",
   "execution_count": 4,
   "metadata": {},
   "outputs": [
    {
     "name": "stdout",
     "output_type": "stream",
     "text": [
      "          ┌───┐           ┌───┐                           \n",
      "q_0: ─────┤ H ├───────────┤ X ├─────────────■─────────────\n",
      "     ┌────┴───┴─────┐     └─┬─┘             │        ┌───┐\n",
      "q_1: ┤ Rx(theta[0]) ├───────■───────────────┼────────┤ H ├\n",
      "     └──────┬───────┘┌──────────────┐┌──────┴───────┐└───┘\n",
      "q_2: ───────■────────┤ Ry(theta[1]) ├┤ Rz(theta[2]) ├─────\n",
      "                     └──────────────┘└──────────────┘     \n",
      "Parameter: 3 Num_qubit: 3\n"
     ]
    }
   ],
   "source": [
    "file_path = 'C:/Desktop/GA+QSVM/3qubits_train_qsvm_with_Credit_2024-12-13/best_circuit.qpy'\n",
    "\n",
    "with open(file_path, 'rb') as f:\n",
    "    circuits = qpy.load(f)  \n",
    "\n",
    "test_circuit = circuits[0]\n",
    "\n",
    "print(test_circuit)\n",
    "print(f'Parameter: {len(test_circuit.parameters)} Num_qubit: {test_circuit.num_qubits}')"
   ]
  },
  {
   "cell_type": "code",
   "execution_count": 22,
   "metadata": {},
   "outputs": [
    {
     "name": "stdout",
     "output_type": "stream",
     "text": [
      "          ┌───┐           ┌───┐                           \n",
      "q_0: ─────┤ H ├───────────┤ X ├─────────────■─────────────\n",
      "     ┌────┴───┴─────┐     └─┬─┘             │        ┌───┐\n",
      "q_1: ┤ Rx(theta[0]) ├───────■───────────────┼────────┤ H ├\n",
      "     └──────┬───────┘┌──────────────┐┌──────┴───────┐└───┘\n",
      "q_2: ───────■────────┤ Ry(theta[1]) ├┤ Rz(theta[2]) ├─────\n",
      "                     └──────────────┘└──────────────┘     \n"
     ]
    },
    {
     "data": {
      "text/plain": [
       "0.72"
      ]
     },
     "execution_count": 22,
     "metadata": {},
     "output_type": "execute_result"
    }
   ],
   "source": [
    "train_qsvm_with_Credit(test_circuit)"
   ]
  }
 ],
 "metadata": {
  "kernelspec": {
   "display_name": "Python 3",
   "language": "python",
   "name": "python3"
  },
  "language_info": {
   "codemirror_mode": {
    "name": "ipython",
    "version": 3
   },
   "file_extension": ".py",
   "mimetype": "text/x-python",
   "name": "python",
   "nbconvert_exporter": "python",
   "pygments_lexer": "ipython3",
   "version": "3.11.5"
  }
 },
 "nbformat": 4,
 "nbformat_minor": 2
}
